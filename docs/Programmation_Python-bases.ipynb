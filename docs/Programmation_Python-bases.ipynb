{
 "cells": [
  {
   "cell_type": "markdown",
   "metadata": {},
   "source": [
    "# Quelques bases de programmation en Python 3\n",
    "\n",
    "Nous avons découvert la programmation en Python 3 en nous appuyant sur les activités de [futurecoder.io](https://fr.futurecoder.io/) ;\n",
    "\n",
    "Après une présentation rapide du langage [Python](#généralité), de l'outil [futurecoder.io](#un-mot-sur-furturcoderio) et des [notebook jupyter](#utilisation-des-notebook-jupyter), vous trouverez ci-dessous un résumé de ce qu'il vous faudra retenir pour la suite de votre apprentissage ainsi que quelques exercices d'application et des précisions complémentaires..."
   ]
  },
  {
   "cell_type": "markdown",
   "metadata": {},
   "source": [
    "## Généralité :\n",
    "[Python](https://fr.wikipedia.org/wiki/Python_(langage)) est un langage de programmation moderne imaginé par [Guido Van Rossum](https://fr.wikipedia.org/wiki/Guido_van_Rossum) , [multi-plateforme](https://fr.wikipedia.org/wiki/Logiciel_multiplate-forme), [open-source](https://fr.wikipedia.org/wiki/Open_source), [généraliste](https://fr.wikipedia.org/wiki/Langage_d%C3%A9di%C3%A9), [orienté objet](https://fr.wikipedia.org/wiki/Programmation_orient%C3%A9e_objet) et de [haut niveau](https://fr.wikipedia.org/wiki/Langage_de_haut_niveau).\n",
    "\n",
    "![Guido Van Rossum](https://upload.wikimedia.org/wikipedia/commons/thumb/e/e2/Guido-portrait-2014-drc.jpg/390px-Guido-portrait-2014-drc.jpg)\n",
    "\n",
    "> Python n'a rien à voir avec le reptile du même nom, mais avec le groupe d'humoristes anglais des années 1970 [Monty Python](https://fr.wikipedia.org/wiki/Monty_Python).\n",
    "\n",
    "C'est un langage à la fois simple et puissant :\n",
    "\n",
    "* simple car facile à apprendre, son code est réputé concis et clair, sa syntaxe est très proche d'une notation algorithmique, base de toute programmation.\n",
    "\n",
    "* puissant car il possède une importante bibliothèque standard et un très grand nombre de paquets complémentaires dédiés au calcul scientifique et aussi pour de nombreux autres domaines d'application. C'est le langage retenu en Classe Préparatoire aux Grandes Ecoles...\n",
    "\n",
    "> Python est considéré comme un langage de conception rapide (Rapid Application Development).\n",
    "\n",
    "C'est un langage **interprété** : pas besoin de compiler tout le programme source en code machine pour l'exécuter. L'interpréteur Python lit et exécute ligne après ligne un script codé en Python.  \n",
    "Ce qui est un très gros avantage pour l'apprentissage d'un langage informatique car on peut tester progressivement des portions de code au cours du développement d'un programme plus complet."
   ]
  },
  {
   "cell_type": "markdown",
   "metadata": {},
   "source": [
    "## Un mot sur furturcoder.io\n",
    "\n",
    "<center>\n",
    "<img src=\"https://futurecoder.forge.aeif.fr/static/logo/bordered.png\" alt=\"logo futurcoder.io\" width=10%>\n",
    "</center>\n",
    "\n",
    "Parce que **\"Le code du futur, c'est vous !\"**, Alex HALL ([alexmojaki](https://github.com/alexmojaki)) a développé [`futurcoder.io`](https://github.com/alexmojaki/futurecoder) un projet 100% open source d’envergure internationale de découverte de Python.  \n",
    "Il s’agit d'un interpréteur Python en ligne associé à un cours moderne et assez complet pour débutant, avec des exercices interactifs, un système d’aide très bien fait et des débugueurs variés.\n",
    "\n",
    "<center>\n",
    "<figure>\n",
    "<iframe width=\"560\" height=\"315\" src=\"https://www.youtube-nocookie.com/embed/un1BrrV57PA\" title=\"YouTube video player\" frameborder=\"0\" allow=\"accelerometer; autoplay; clipboard-write; encrypted-media; gyroscope; picture-in-picture\" allowfullscreen></iframe>\n",
    "</figure>\n",
    "</center>\n",
    "\n",
    "La traduction française officielle a été réalisée par une poignée d'enseignants de NSI membres très actifs de l'[AEIF](https://aeif.fr/index.php/accueil/).\n",
    "Une copie hébergée en France (plus RGPD et sans tracker) est maintenue disponible à l'adresse [https://futurecoder.forge.aeif.fr/](https://futurecoder.forge.aeif.fr/).\n",
    "\n",
    "> A l'instar d'[autres développements](https://pyodide.org/en/stable/project/related-projects.html#notebook-environments-ides-and-repls) tels que Basthon, JupyterLite, ou encore PyScript, que nous utiliserons par la suite, `furturcoder.io` est basé sur la récente technologie [Pyodide](https://pyodide.org) qui permet d'interpréter des instructions Python directement dans un navigateur de façon interactive coté client..."
   ]
  },
  {
   "cell_type": "markdown",
   "metadata": {},
   "source": [
    "## Utilisation des notebook Jupyter\n",
    "\n",
    "Ce document est un [jupyter notebook](https://ericecmorlaix.github.io/1NSI_2022-2023/notebook/), il permet d'exécuter du code cellule après cellule et ainsi d'expérimenter progressivement les portions d'un programme plus complet au cours de son développement.\n",
    "\n",
    ">  Vous pouvez télécharger ce fichier avec son extension `.ipynb` en cliquant sur le bouton en haut à droite afin de l'éditer sur votre iPad en local avec l'application [Carnets](https://holzschu.github.io/Carnets_Jupyter/) ou encore en ligne avec [Basthon](https://notebook.basthon.fr/).\n",
    ">> - Il est très fortement recommandé avec l'application [Fichier](https://apps.apple.com/fr/app/fichiers/id1232058109) de déplacer le fichier téléchargé dans le dossier `Carnets` sur votre iPad ;\n",
    ">> - Potentiellement, Safari peut ajouter une extension `.txt`, il faut alors ouvrir votre fichier avec l'application [Carnets](https://holzschu.github.io/Carnets_Jupyter/) et choisir dans le menu \"File>Rename\" pour supprimer cette extension puis cliquer sur `<` pour revenir dans l'explorateur des fichiers...\n",
    "\n",
    "La façon habituelle de lire l'ensemble du notebook consiste à exécuter successivement les instructions de la première cellule de code jusqu'à la fin du notebook.\n",
    "\n",
    "**Mais attention, il est important que les cellules de code soient évaluées dans le bon ordre. Si vous ne respectez pas l'ordre dans lequel les cellules de code sont présentées, le résultat peut être inattendu.**\n",
    "\n",
    "> En fait, évaluer un programme sous forme de notebook revient à le découper en petits fragments, et si on exécute ces fragments dans le désordre, on obtient naturellement le résultat d'un programme différent.\n",
    "\n",
    "### Entrée **In[ ]:** et Sortie **Out[ ]:** :\n",
    "\n",
    "En cliquant sur le bouton <button class='fa fa-step-forward icon-step-forward btn btn-xs btn-default'></button> (ou en appuyant sur les touches d'un clavier **`<Maj+Entrée>`**, ou encore en utilisant dans le menu **`Cell>Run Cells and Select Below...`** cela a pour effet **d'exécuter le code** Python de la cellule sélectionnée et de présélectionner la cellule suivante...\n",
    "\n",
    "<h3 class='fa fa-cogs' style=\"color: MediumSeaGreen\"> Essayez vous-même : </h3>"
   ]
  },
  {
   "cell_type": "code",
   "execution_count": null,
   "metadata": {},
   "outputs": [],
   "source": [
    "1+1"
   ]
  },
  {
   "cell_type": "code",
   "execution_count": null,
   "metadata": {},
   "outputs": [],
   "source": [
    "\"Bonjour ! \""
   ]
  },
  {
   "cell_type": "markdown",
   "metadata": {},
   "source": [
    "Une ligne **Out[ ]:** apparait en dessous des instructions de code, affichant le résultat de celles-ci en sortie...\n",
    "\n",
    "On peut rappeler le résultat de la dernière sortie dans la cellule suivante et le réutiliser ainsi :"
   ]
  },
  {
   "cell_type": "code",
   "execution_count": null,
   "metadata": {},
   "outputs": [],
   "source": [
    "_"
   ]
  },
  {
   "cell_type": "code",
   "execution_count": null,
   "metadata": {},
   "outputs": [],
   "source": [
    "_ * 2"
   ]
  },
  {
   "cell_type": "markdown",
   "metadata": {},
   "source": [
    "On peut rappeler le résultat d'une sortie particulière dans une autre cellule pour le réutiliser :"
   ]
  },
  {
   "cell_type": "code",
   "execution_count": null,
   "metadata": {},
   "outputs": [],
   "source": [
    "Out[1] * 2"
   ]
  },
  {
   "cell_type": "markdown",
   "metadata": {},
   "source": [
    "> Rejouer les cellules précedentes, puis essayer de le refaire encore mais dans un ordre différent...\n",
    "\n",
    "> Vous pouvez également ajouter une nouvelle cellule à l'aider du bouton <button class='fa fa-plus icon-plus btn btn-xs btn-default'></button>.\n",
    "\n",
    "> Un des avantages principaux des notebooks est de vous permettre de modifier le code que nous avons écrit, et de voir par vous-même comment se comporte le code modifié.  \n",
    "Pour cette raison chaque élève dispose de sa **propre copie** de chaque notebook, ainsi vous pouvez bien sûr apporter toutes les modifications que vous souhaitez à vos notebooks sans affecter ceux des autres élèves et revenir à la version originale en rechargeant un notebook à partir du lien fourni."
   ]
  },
  {
   "cell_type": "markdown",
   "metadata": {},
   "source": [
    "## Notions de programmation à retenir\n",
    "\n",
    "### "
   ]
  },
  {
   "cell_type": "code",
   "execution_count": null,
   "metadata": {},
   "outputs": [],
   "source": []
  },
  {
   "cell_type": "code",
   "execution_count": null,
   "metadata": {},
   "outputs": [],
   "source": []
  },
  {
   "cell_type": "markdown",
   "metadata": {},
   "source": [
    "## Outils\n",
    "### Interpréteur\n",
    "\n",
    "[](https://fr.futurecoder.io/course/#ide)\n"
   ]
  },
  {
   "cell_type": "markdown",
   "metadata": {},
   "source": [
    "## "
   ]
  }
 ],
 "metadata": {
  "kernelspec": {
   "display_name": "Python 3.10.1 64-bit",
   "language": "python",
   "name": "python3"
  },
  "language_info": {
   "codemirror_mode": {
    "name": "ipython",
    "version": 3
   },
   "file_extension": ".py",
   "mimetype": "text/x-python",
   "name": "python",
   "nbconvert_exporter": "python",
   "pygments_lexer": "ipython3",
   "version": "3.10.1"
  },
  "orig_nbformat": 4,
  "vscode": {
   "interpreter": {
    "hash": "c813da0d88532624e95401f841607d640ef6d724b81c00ab0d0885f617a921c3"
   }
  }
 },
 "nbformat": 4,
 "nbformat_minor": 2
}
